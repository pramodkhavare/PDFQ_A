{
 "cells": [
  {
   "cell_type": "code",
   "execution_count": 1,
   "metadata": {},
   "outputs": [],
   "source": [
    "# Set Page Parameter\n",
    "import streamlit as st \n",
    "from dotenv import load_dotenv \n",
    "import os \n",
    "from PyPDF2 import PdfFileReader ,PdfReader\n",
    "from langchain_text_splitters import CharacterTextSplitter\n",
    "from langchain_openai import OpenAIEmbeddings\n",
    "# from langchain.embeddings import OpenAIEmbeddings\n",
    "# from langchain_core.vectorstores import VectorStore\n",
    "# from langchain_core.utils.aiter import abatch_iterate\n",
    "from langchain_community.vectorstores import FAISS\n",
    "\n",
    "st.set_page_config(\n",
    "        page_title= \"Chat With MUltiple PDF\" ,\n",
    "        page_icon= \":books:\"\n",
    "    )\n",
    "\n"
   ]
  },
  {
   "cell_type": "code",
   "execution_count": null,
   "metadata": {},
   "outputs": [],
   "source": [
    "st.header(\"Chat With MUltiple PDF :books:\")\n",
    "st.text_input('Ask Question From PDF') \n",
    "with st.sidebar:\n",
    "    st.subheader(\"Your Documents\")\n",
    "    st.file_uploader(\"Upload Your PDFs here and click on Process\")\n",
    "    st.button(\"Process\")"
   ]
  },
  {
   "cell_type": "code",
   "execution_count": null,
   "metadata": {},
   "outputs": [],
   "source": [
    "#Code to Upload Multiple files \n",
    "pdf_docs = st.file_uploader(\n",
    "        \"Upload Your PDFs here and click on Process\" ,accept_multiple_files=True)"
   ]
  },
  {
   "cell_type": "code",
   "execution_count": null,
   "metadata": {},
   "outputs": [],
   "source": [
    "#Get Text from Multiple Pdf\n",
    "\n",
    "def get_pdf_text(pdf_docs):\n",
    "    text  = \"\"\n",
    "    for pdf in pdf_docs:\n",
    "        pdf_reader = PdfReader(pdf)\n",
    "        for  page in pdf_reader.pages:\n",
    "            text += page.extract_text()\n",
    "    return text"
   ]
  },
  {
   "cell_type": "code",
   "execution_count": null,
   "metadata": {},
   "outputs": [],
   "source": [
    "from langchain_text_splitters import CharacterTextSplitter\n",
    "def get_text_chunk(raw_text):\n",
    "    text_splitter = CharacterTextSplitter(\n",
    "        separator=\"\\n\",\n",
    "        chunk_size=1000,\n",
    "        chunk_overlap=200 ,\n",
    "        length_function=len\n",
    "    )\n",
    "    chunk = text_splitter.split_text(raw_text)\n",
    "    return chunk \n",
    "\n",
    "# text_chunk = get_text_chunk(raw_text) "
   ]
  },
  {
   "cell_type": "code",
   "execution_count": null,
   "metadata": {},
   "outputs": [],
   "source": [
    "#EMbeddding Models\n",
    "# https://instructor-embedding.github.io/"
   ]
  },
  {
   "cell_type": "code",
   "execution_count": null,
   "metadata": {},
   "outputs": [],
   "source": [
    "def get_vectorestore(text_chunk):\n",
    "    embeddings_function = OpenAIEmbeddings(model=\"text-embedding-3-small\")\n",
    "    \n",
    "    vectorestore = FAISS.from_texts(\n",
    "        texts= text_chunk ,\n",
    "        embedding= embeddings_function\n",
    "    )\n",
    "    return vectorestore\n",
    "    "
   ]
  },
  {
   "cell_type": "code",
   "execution_count": null,
   "metadata": {},
   "outputs": [],
   "source": [
    "#Use of free model from huggingface to create embeddings\n",
    "from langchain_community.embeddings import HuggingFaceInstructEmbeddings\n",
    "def get_vectorestore(text_chunk):\n",
    "    embeddings_function = HuggingFaceInstructEmbeddings(model=\"text-embedding-3-small\")\n",
    "    \n",
    "    vectorestore = FAISS.from_texts(\n",
    "        texts= text_chunk ,\n",
    "        embedding= embeddings_function\n",
    "    )\n",
    "    return vectorestore\n",
    "    \n"
   ]
  }
 ],
 "metadata": {
  "kernelspec": {
   "display_name": "venv",
   "language": "python",
   "name": "python3"
  },
  "language_info": {
   "codemirror_mode": {
    "name": "ipython",
    "version": 3
   },
   "file_extension": ".py",
   "mimetype": "text/x-python",
   "name": "python",
   "nbconvert_exporter": "python",
   "pygments_lexer": "ipython3",
   "version": "3.10.0"
  }
 },
 "nbformat": 4,
 "nbformat_minor": 2
}
